{
  "nbformat": 4,
  "nbformat_minor": 0,
  "metadata": {
    "colab": {
      "name": "a4.ipynb",
      "provenance": [],
      "authorship_tag": "ABX9TyMpGfLdTdVivMSyaG/YJp8L",
      "include_colab_link": true
    },
    "kernelspec": {
      "name": "python3",
      "display_name": "Python 3"
    }
  },
  "cells": [
    {
      "cell_type": "markdown",
      "metadata": {
        "id": "view-in-github",
        "colab_type": "text"
      },
      "source": [
        "<a href=\"https://colab.research.google.com/github/krishnajy/colab/blob/main/a4.ipynb\" target=\"_parent\"><img src=\"https://colab.research.google.com/assets/colab-badge.svg\" alt=\"Open In Colab\"/></a>"
      ]
    },
    {
      "cell_type": "code",
      "metadata": {
        "id": "ZeoZ5Ticx4Im"
      },
      "source": [
        "print(\"Hello a4\")"
      ],
      "execution_count": null,
      "outputs": []
    }
  ]
}